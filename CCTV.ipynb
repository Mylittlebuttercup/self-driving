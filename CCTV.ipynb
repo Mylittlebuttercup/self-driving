{
 "cells": [
  {
   "cell_type": "code",
   "execution_count": 15,
   "id": "e8abd3c9",
   "metadata": {},
   "outputs": [
    {
     "name": "stdout",
     "output_type": "stream",
     "text": [
      "Overwriting cctv.py\n"
     ]
    }
   ],
   "source": [
    "%%writefile cctv.py\n",
    "from flask import Flask, send_file, Response\n",
    "import cv2\n",
    "from datetime import datetime\n",
    "import os\n",
    "import glob\n",
    "\n",
    "app = Flask(__name__)\n",
    "\n",
    "\n",
    "\n",
    "def getNow() :\n",
    "    now = datetime.now()     \n",
    "    return now.strftime(\"%Y%m%d_%H%M%S\")\n",
    "\n",
    "\n",
    "\n",
    "def getFiles(path) :\n",
    "    return [os.path.split(f)[-1]  for f in glob.glob(path) ] \n",
    "\n",
    "@app.route('/')\n",
    "def hello():    \n",
    "    \n",
    "    html = \"\"\"       \n",
    "    \n",
    "    \n",
    "    자율주행 모니터링 시스템 <br>    \n",
    "    \n",
    "    <img src=/video  width=320 >\n",
    "    \n",
    "    \"\"\"\n",
    "    \n",
    "    return html\n",
    "\n",
    "\n",
    "@app.route('/image')\n",
    "def image():    \n",
    "    return send_file('static/donut.jpg', mimetype='image/jpg')\n",
    "\n",
    "@app.route('/opencv')\n",
    "def opencv():    \n",
    "    \n",
    "    return \"hello\"\n",
    "\n",
    "_frame = {}\n",
    "\n",
    "\n",
    "def gen_frames():  \n",
    "    \n",
    "    global _frame\n",
    "\n",
    "    \n",
    "    #cap = cv2.VideoCapture(\"video.mp4\")\n",
    "    cap = cv2.VideoCapture(0)\n",
    "    \n",
    "    \n",
    "    \n",
    "    \n",
    "    while True:\n",
    "        success, frame = cap.read()  # read the camera frame\n",
    "        \n",
    "        _frame = frame.copy()\n",
    "        \n",
    "        print(\"^^\")\n",
    "        if not success:\n",
    "                break\n",
    "        else:\n",
    "            ret, buffer = cv2.imencode('.jpg', frame)\n",
    "            frame = buffer.tobytes()\n",
    "            yield (b'--frame\\r\\n'\n",
    "                   b'Content-Type: image/jpeg\\r\\n\\r\\n' + frame + b'\\r\\n')  # concat frame one by one and show result\n",
    "            \n",
    "            \n",
    "\n",
    "@app.route('/video')\n",
    "def video():\n",
    "    return Response(gen_frames(), mimetype='multipart/x-mixed-replace; boundary=frame') \n",
    "\n",
    "\n",
    "@app.route('/capture')\n",
    "def capture():    \n",
    "    \n",
    "    cv2.imwrite('static/cctv/capture' + getNow() + '.jpg', _frame)    \n",
    "    \n",
    "    return \"ok\"\n",
    "\n",
    "@app.route('/control')\n",
    "def control():       \n",
    "   \n",
    "    res = getFiles('static/cctv/*')\n",
    "\n",
    "    html = \"\"\n",
    "    for fname in res :\n",
    "        html += f\"<img src=static/cctv/{fname} width=200 height=200>\"\n",
    "    \n",
    "    return html\n",
    "\n",
    "    \n",
    "if __name__ == \"__main__\":\n",
    "    app.run(debug=True)"
   ]
  },
  {
   "cell_type": "code",
   "execution_count": 8,
   "id": "465ed5ca",
   "metadata": {},
   "outputs": [
    {
     "name": "stdout",
     "output_type": "stream",
     "text": [
      "now = 2021-10-18 16:09:25.668522\n",
      "date and time = 20211018_160925\n"
     ]
    },
    {
     "data": {
      "text/plain": [
       "'20211018_160925'"
      ]
     },
     "execution_count": 8,
     "metadata": {},
     "output_type": "execute_result"
    }
   ],
   "source": [
    "from datetime import datetime\n",
    "\n",
    "now = datetime.now()\n",
    " \n",
    "print(\"now =\", now)\n",
    "\n",
    "dt_string = now.strftime(\"%Y%m%d_%H%M%S\")\n",
    "print(\"date and time =\", dt_string)\n",
    "\n",
    "\n",
    "\n",
    "def getNow() :\n",
    "    now = datetime.now()     \n",
    "    return now.strftime(\"%Y%m%d_%H%M%S\")\n",
    "\n",
    "\n",
    "getNow()"
   ]
  },
  {
   "cell_type": "code",
   "execution_count": 13,
   "id": "09afb4a4",
   "metadata": {},
   "outputs": [
    {
     "name": "stdout",
     "output_type": "stream",
     "text": [
      "['capture.jpg', 'donut.jpg']\n",
      "['capture.jpg', 'donut.jpg']\n",
      "<img src=static/cctv/capture.jpg width=200 height=200><img src=static/cctv/donut.jpg width=200 height=200>\n"
     ]
    }
   ],
   "source": [
    "import os\n",
    "import glob\n",
    "\n",
    "res = []\n",
    "for f in glob.glob('static/cctv/*'):\n",
    "    fname = os.path.split(f)[-1] \n",
    "    res.append(fname)\n",
    "    \n",
    "print(res)    \n",
    "\n",
    "\n",
    "def getFiles(path) :\n",
    "    return [os.path.split(f)[-1]  for f in glob.glob(path) ] \n",
    "\n",
    "\n",
    "res = getFiles('static/cctv/*')\n",
    "print(res)\n",
    "\n",
    "\n",
    "html = \"\"\n",
    "for fname in res :\n",
    "    html += f\"<img src=static/cctv/{fname} width=200 height=200>\"\n",
    "print(html)"
   ]
  }
 ],
 "metadata": {
  "kernelspec": {
   "display_name": "Python 3",
   "language": "python",
   "name": "python3"
  },
  "language_info": {
   "codemirror_mode": {
    "name": "ipython",
    "version": 3
   },
   "file_extension": ".py",
   "mimetype": "text/x-python",
   "name": "python",
   "nbconvert_exporter": "python",
   "pygments_lexer": "ipython3",
   "version": "3.8.8"
  }
 },
 "nbformat": 4,
 "nbformat_minor": 5
}
